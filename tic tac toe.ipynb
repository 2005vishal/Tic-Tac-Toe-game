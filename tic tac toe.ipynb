{
 "cells": [
  {
   "cell_type": "code",
   "execution_count": 1,
   "id": "66062410-2f75-4dd4-ae91-0b438920c172",
   "metadata": {},
   "outputs": [
    {
     "name": "stdin",
     "output_type": "stream",
     "text": [
      "Enter the player1 Name:  v1\n",
      "Enter the player2 Name:  v2\n"
     ]
    },
    {
     "name": "stdout",
     "output_type": "stream",
     "text": [
      "|-|-|-|\n",
      "|-|-|-|\n",
      "|-|-|-|\n"
     ]
    },
    {
     "name": "stdin",
     "output_type": "stream",
     "text": [
      "Enter the position 1 to 9:  1\n"
     ]
    },
    {
     "name": "stdout",
     "output_type": "stream",
     "text": [
      "|X|-|-|\n",
      "|-|-|-|\n",
      "|-|-|-|\n"
     ]
    },
    {
     "name": "stdin",
     "output_type": "stream",
     "text": [
      "Enter the position 1 to 9:  2\n"
     ]
    },
    {
     "name": "stdout",
     "output_type": "stream",
     "text": [
      "|X|O|-|\n",
      "|-|-|-|\n",
      "|-|-|-|\n"
     ]
    },
    {
     "name": "stdin",
     "output_type": "stream",
     "text": [
      "Enter the position 1 to 9:  5\n"
     ]
    },
    {
     "name": "stdout",
     "output_type": "stream",
     "text": [
      "|X|O|-|\n",
      "|-|X|-|\n",
      "|-|-|-|\n"
     ]
    },
    {
     "name": "stdin",
     "output_type": "stream",
     "text": [
      "Enter the position 1 to 9:  6\n"
     ]
    },
    {
     "name": "stdout",
     "output_type": "stream",
     "text": [
      "|X|O|-|\n",
      "|-|X|O|\n",
      "|-|-|-|\n"
     ]
    },
    {
     "name": "stdin",
     "output_type": "stream",
     "text": [
      "Enter the position 1 to 9:  9\n"
     ]
    },
    {
     "name": "stdout",
     "output_type": "stream",
     "text": [
      "|X|O|-|\n",
      "|-|X|O|\n",
      "|-|-|X|\n",
      "Player 1 win\n",
      "Game Over\n"
     ]
    }
   ],
   "source": [
    "board =  ['-','-','-','-','-','-','-','-','-']\n",
    "\n",
    "def display_board(board):\n",
    "    print('|'+board[0]+'|'+board[1]+'|'+board[2]+'|')\n",
    "    print('|'+board[3]+'|'+board[4]+'|'+board[5]+'|')\n",
    "    print('|'+board[6]+'|'+board[7]+'|'+board[8]+'|')\n",
    "    \n",
    "\n",
    "\n",
    "\n",
    "def check_win(board):\n",
    "    p1 = 'X'\n",
    "    p2 = 'O'\n",
    "    if board[0] == board[1] ==board[2] == p1 or board[0] == board[1] ==board[2] == p2:\n",
    "        return True\n",
    "    elif board[3] == board[4] ==board[5] == p1  or board[3] == board[4] ==board[5] == p2:\n",
    "        return True\n",
    "    elif board[6] == board[7] ==board[8] == p1 or  board[6] == board[7] ==board[8] == p2:\n",
    "        return True\n",
    "    elif board[0] == board[3] ==board[6] == p1 or  board[0] == board[3] ==board[6] == p2:\n",
    "        return True\n",
    "    elif board[1] == board[4] ==board[7] == p1 or  board[1] == board[7] ==board[4] == p2:\n",
    "        return True\n",
    "    elif board[2] == board[5] ==board[8] == p1 or  board[2] == board[5] ==board[8] == p2:\n",
    "        return True\n",
    "    elif board[0] == board[4] ==board[8] == p1 or  board[0] == board[4] ==board[8] == p2:\n",
    "        return True\n",
    "    elif board[2] == board[4] ==board[7] == p1 or  board[2] == board[7] ==board[4] == p2:\n",
    "        return True\n",
    "    else: return False\n",
    "\n",
    "def inp(board):\n",
    "    x = int(input('Enter the position 1 to 9: '))\n",
    "    if board[x - 1] != '-':\n",
    "        print('Please Enter New value: ')\n",
    "        return inp(board)\n",
    "    else: \n",
    "        return x\n",
    "\n",
    "\n",
    "player1 = input('Enter the player1 Name: ')\n",
    "player2 = input(\"Enter the player2 Name: \")\n",
    "display_board(board)\n",
    "for i in range (9):\n",
    "    if i%2 == 0:\n",
    "        # inp(board)\n",
    "        num = inp(board)\n",
    "        board[num - 1] = 'X'\n",
    "        display_board(board)\n",
    "        if check_win(board):\n",
    "            print('Player 1 win')\n",
    "            break\n",
    "    else:\n",
    "        num = inp(board)\n",
    "        board[num - 1] = 'O'\n",
    "        display_board(board)\n",
    "        if check_win(board):\n",
    "            print('Player 2 win')\n",
    "            break\n",
    "\n",
    "print('Game Over')\n",
    "\n",
    "\n"
   ]
  }
 ],
 "metadata": {
  "kernelspec": {
   "display_name": "Python 3 (ipykernel)",
   "language": "python",
   "name": "python3"
  },
  "language_info": {
   "codemirror_mode": {
    "name": "ipython",
    "version": 3
   },
   "file_extension": ".py",
   "mimetype": "text/x-python",
   "name": "python",
   "nbconvert_exporter": "python",
   "pygments_lexer": "ipython3",
   "version": "3.12.1"
  },
  "widgets": {
   "application/vnd.jupyter.widget-state+json": {
    "state": {},
    "version_major": 2,
    "version_minor": 0
   }
  }
 },
 "nbformat": 4,
 "nbformat_minor": 5
}
